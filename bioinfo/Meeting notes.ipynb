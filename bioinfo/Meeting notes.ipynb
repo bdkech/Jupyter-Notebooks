{
 "cells": [
  {
   "cell_type": "markdown",
   "metadata": {},
   "source": [
    "Thesis committee memebers:\n",
    "At least 4 people; At least 1/2 should be from the school (SOIC).  Adjunct professors do not count\n",
    "\n",
    "Ernst (adviser)\n",
    "Prof Wu (committee chair), Prof Janga, Prof Liu, Prof Yen, Yunlong\n",
    "\n",
    "\n",
    "890 - Thesis\n",
    "\n",
    "790 - Rotation (maybe xiaowen)\n",
    "\n",
    "\n",
    "Thesis committee chair -> Makes sure that everything is in line and delivered on time.\n",
    "\n",
    "\n",
    "- What is the research project/contributions and the challenges/tasks to complete them.\n",
    "        -- Comprehensive literature review\n",
    "        -- Methods\n",
    "        -- Contributions can be observations or a new methodology\n",
    "        -- Detailed timeline (when steps are to be completed, what is delivered, papers etc)\n",
    "        \n",
    "## TODO: \n",
    "1. Set date for proposal defense\n",
    "2. Get people on the committee\n",
    "3. Get CV from Ernst for Adjunct position -> normally a 3 year posting and not renewed. **DONE TODAY**\n",
    "4. Talk to Elizabeth Bunge -> make sure form is filled out properly (Thesis committee form) \n",
    "    - Generally double check to make sure all the required forms are taken care of.\n",
    "5. Thesis research course \n",
    "6. Send transcript for course work"
   ]
  },
  {
   "cell_type": "code",
   "execution_count": null,
   "metadata": {
    "collapsed": true
   },
   "outputs": [],
   "source": []
  }
 ],
 "metadata": {
  "kernelspec": {
   "display_name": "Python 2",
   "language": "python",
   "name": "python2"
  },
  "language_info": {
   "codemirror_mode": {
    "name": "ipython",
    "version": 2
   },
   "file_extension": ".py",
   "mimetype": "text/x-python",
   "name": "python",
   "nbconvert_exporter": "python",
   "pygments_lexer": "ipython2",
   "version": "2.7.12"
  }
 },
 "nbformat": 4,
 "nbformat_minor": 0
}
