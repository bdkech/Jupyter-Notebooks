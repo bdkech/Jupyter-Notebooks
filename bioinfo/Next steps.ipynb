{
 "cells": [
  {
   "cell_type": "markdown",
   "metadata": {
    "extensions": {
     "jupyter_dashboards": {
      "version": 1,
      "views": {
       "grid_default": {
        "col": 0,
        "height": 34,
        "hidden": false,
        "row": 0,
        "width": 12
       },
       "report_default": {}
      }
     }
    }
   },
   "source": [
    "# Next steps\n",
    "\n",
    "### Follow up on 10 genes\n",
    "#### Gene profiling\n",
    "See if these are listed transcription factors, encoding miRNAs, RBPs\n",
    "#### Network analyses\n",
    "See if these genes have any relationship to known oncogenes\n",
    "\n",
    "\n",
    "Tom : Look at survivability data\n",
    "\n",
    "### Publication choices\n",
    "BMC Bioinformatics seems best bet.  We have no additional validation measures for findings, small team.  Insight on mRNA and protein relationship impactful and useful for cancer research.\n",
    "\n",
    "\n",
    "### Next data\n",
    "Process ovarian data to do similar analysis.\n",
    "\n",
    "\n",
    "# 01-26-2017\n",
    "### Updates\n",
    "#### Achilles data -> \n",
    "sh rna knockdown showed that several genes do impact the survivability of breast cancer cell lines.  One complication is this isn't freely available data, Lilly has a license for it.\n",
    "#### Lilly Libra -> \n",
    "Because of Tom Doman's involvement and recent efforts for secuirty and protect Lilly we'll need to do the Lilly publication vetting process, it should be quick.  There aren't any anticipated problems because there are no lilly compounds or targets used to do the analysis.\n",
    "#### Additional Literature review\n",
    "Papers I shared are TCGA methods of multi-omics datasets.  They still only perform their analysis on a gene-set level basis and without proper protein quantification (still uses immunohistochemsitry).\n",
    "\n",
    "### Questions/Points\n",
    "#### What is going on with my qualification document?\n",
    "#### What is a realistic timeline for Huanmei to read and edit these items?\n",
    "#### Calculating the colocrectal protein quantities is going to require comparing to a normal dataset, will probably need Xiaowen's help\n",
    "\n",
    "\n",
    "### Follow-ups\n",
    "#### NIH R35(?) Grant - PhD candidate submission -> Candidate is PI\n",
    "\n"
   ]
  },
  {
   "cell_type": "markdown",
   "metadata": {
    "collapsed": true,
    "extensions": {
     "jupyter_dashboards": {
      "version": 1,
      "views": {
       "grid_default": {
        "hidden": true
       },
       "report_default": {}
      }
     }
    }
   },
   "source": [
    "# 2-2-2017\n",
    "\n",
    "## Next steps \n",
    "\n",
    "### Editing drafts -> TIMELINE\n",
    "\n",
    "\n",
    "## Questions\n",
    "\n",
    "## Follow-ups"
   ]
  }
 ],
 "metadata": {
  "extensions": {
   "jupyter_dashboards": {
    "activeView": "grid_default",
    "version": 1,
    "views": {
     "grid_default": {
      "cellMargin": 10,
      "defaultCellHeight": 20,
      "maxColumns": 12,
      "name": "grid",
      "type": "grid"
     },
     "report_default": {
      "name": "report",
      "type": "report"
     }
    }
   }
  },
  "kernelspec": {
   "display_name": "Python 2",
   "language": "python",
   "name": "python2"
  },
  "language_info": {
   "codemirror_mode": {
    "name": "ipython",
    "version": 2
   },
   "file_extension": ".py",
   "mimetype": "text/x-python",
   "name": "python",
   "nbconvert_exporter": "python",
   "pygments_lexer": "ipython2",
   "version": "2.7.12"
  }
 },
 "nbformat": 4,
 "nbformat_minor": 1
}
