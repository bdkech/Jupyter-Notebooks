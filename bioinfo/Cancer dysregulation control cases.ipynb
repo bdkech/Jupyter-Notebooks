{
 "cells": [
  {
   "cell_type": "code",
   "execution_count": 33,
   "metadata": {
    "collapsed": true,
    "slideshow": {
     "slide_type": "skip"
    }
   },
   "outputs": [],
   "source": [
    "%matplotlib inline \n",
    "import seaborn as sns\n",
    "import pandas as pd\n",
    "import matplotlib.pyplot as plt\n",
    "import numpy as np\n",
    "from scipy.stats import ks_2samp"
   ]
  },
  {
   "cell_type": "markdown",
   "metadata": {},
   "source": [
    "# Random model and control datasets\n",
    "\n",
    "## Three analyses:  \n",
    "1. Randomized Expression: \n",
    "        a. Randomize all expression values for mRNA\n",
    "        b. Calculate fold changes\n",
    "        c. Shuffle protein fold changes for absolute spectra matches\n",
    "        d. Identify genes with > 2 fold change in 75% of samples\n",
    "        e. Match patient mRNA and protein mean \n",
    "        f. Identify dysregulation pattern for genes\n",
    "2. Randomized median fold-changes:\n",
    "        a-d Done with standard data.\n",
    "        e. Shuffle mRNA and protein mean fold chnages\n",
    "        f. Identified dysregulation patterns for genes\n",
    "3. Calculate Pearson Correlation Coefficient for genes and the proteins\n",
    "\n",
    "### Criteria for dysregulation classification:\n",
    "* low_prot_high_mrna <- mrna > 4 & prot < -1)\n",
    "* low_prot_low_mrna <-mrna < -1 & rot < -1)\n",
    "* higher_prot_low_mrna<-mrna < -1 & prot > 0.5)\n",
    "* higher_prot_high_mrna<-mrna > 2 & prot > 0.5)\n",
    "\n",
    "\n",
    "\n",
    "## Results\n",
    "\n",
    "#### Randomized Expression genes:\n",
    "Only two : "
   ]
  },
  {
   "cell_type": "code",
   "execution_count": 14,
   "metadata": {
    "collapsed": false
   },
   "outputs": [
    {
     "name": "stdout",
     "output_type": "stream",
     "text": [
      "VPS33A\r\n"
     ]
    }
   ],
   "source": [
    "cat ../../bioinfo/qual-project/tcga/exp_rand_results/higher_prot_high_mrna.txt"
   ]
  },
  {
   "cell_type": "code",
   "execution_count": 15,
   "metadata": {
    "collapsed": false
   },
   "outputs": [
    {
     "name": "stdout",
     "output_type": "stream",
     "text": [
      "MRPS9\r\n"
     ]
    }
   ],
   "source": [
    "cat ../../bioinfo/qual-project/tcga/exp_rand_results/higher_prot_low_mrna.txt"
   ]
  },
  {
   "cell_type": "markdown",
   "metadata": {},
   "source": [
    "#### Randomized median fold-changes"
   ]
  },
  {
   "cell_type": "code",
   "execution_count": 16,
   "metadata": {
    "collapsed": false
   },
   "outputs": [
    {
     "name": "stdout",
     "output_type": "stream",
     "text": [
      "EPM2A\r\n",
      "MGP\r\n",
      "SPAG9\r\n",
      "UBE2D2\r\n",
      "UBE2R2\r\n"
     ]
    }
   ],
   "source": [
    "cat ../../bioinfo/qual-project/tcga/dys_rand_results/higher_prot_high_mrna.txt"
   ]
  },
  {
   "cell_type": "code",
   "execution_count": 17,
   "metadata": {
    "collapsed": false
   },
   "outputs": [
    {
     "name": "stdout",
     "output_type": "stream",
     "text": [
      "PIGA\r\n"
     ]
    }
   ],
   "source": [
    "cat ../../bioinfo/qual-project/tcga/dys_rand_results/higher_prot_low_mrna.txt"
   ]
  },
  {
   "cell_type": "code",
   "execution_count": 18,
   "metadata": {
    "collapsed": true
   },
   "outputs": [],
   "source": [
    "cat ../../bioinfo/qual-project/tcga/dys_rand_results/low_prot_high_mrna.txt"
   ]
  },
  {
   "cell_type": "code",
   "execution_count": 19,
   "metadata": {
    "collapsed": false
   },
   "outputs": [
    {
     "name": "stdout",
     "output_type": "stream",
     "text": [
      "HMGCL\r\n",
      "NT5DC1\r\n",
      "SH2D3A\r\n",
      "ZMAT4\r\n"
     ]
    }
   ],
   "source": [
    "cat ../../bioinfo/qual-project/tcga/dys_rand_results/low_prot_low_mrna.txt"
   ]
  },
  {
   "cell_type": "markdown",
   "metadata": {},
   "source": [
    "### mRNA fold changes before randomization"
   ]
  },
  {
   "cell_type": "code",
   "execution_count": 31,
   "metadata": {
    "collapsed": false
   },
   "outputs": [
    {
     "data": {
      "text/plain": [
       "(array([  2.00000000e+01,   5.47000000e+02,   7.30900000e+03,\n",
       "          9.32250000e+04,   1.89369600e+06,   3.19488000e+05,\n",
       "          2.41560000e+04,   1.93500000e+03,   1.48000000e+02,\n",
       "          1.00000000e+01]),\n",
       " array([-18.45930641, -14.46831676, -10.4773271 ,  -6.48633744,\n",
       "         -2.49534779,   1.49564187,   5.48663153,   9.47762119,\n",
       "         13.46861084,  17.4596005 ,  21.45059016]),\n",
       " <a list of 10 Patch objects>)"
      ]
     },
     "execution_count": 31,
     "metadata": {},
     "output_type": "execute_result"
    },
    {
     "data": {
      "image/png": "[encoded data removed]",
      "text/plain": [
       "<matplotlib.figure.Figure at 0x7f006c603e50>"
      ]
     },
     "metadata": {},
     "output_type": "display_data"
    }
   ],
   "source": [
    "mrna = pd.read_csv(open(\"../../bioinfo/qual-project/tcga/patient_log_ratio_dys_counts.txt\",'r'),delimiter=\"\\t\")\n",
    "mrna.drop('majority_dys',1)\n",
    "mrna = pd.melt(mrna,id_vars='gene_id',var_name='sample')\n",
    "plt.hist(mrna['value'])"
   ]
  },
  {
   "cell_type": "markdown",
   "metadata": {},
   "source": [
    "### mRNA fold changes after randomization"
   ]
  },
  {
   "cell_type": "code",
   "execution_count": 17,
   "metadata": {
    "collapsed": false
   },
   "outputs": [],
   "source": [
    "rand_mrna = pd.read_csv(open(\"../../bioinfo/qual-project/tcga/data/rand_mrna_fold_change.txt\",'r'),delimiter=\"\\t\")\n",
    "rand_mrna = pd.melt(rand_mrna,id_vars='gene_id',var_name='sample')"
   ]
  },
  {
   "cell_type": "code",
   "execution_count": 20,
   "metadata": {
    "collapsed": false
   },
   "outputs": [
    {
     "data": {
      "text/plain": [
       "(array([  4.93000000e+02,   3.19700000e+04,   2.43041000e+05,\n",
       "          3.08927000e+05,   6.35593000e+05,   5.36082000e+05,\n",
       "          3.11052000e+05,   2.33048000e+05,   1.95290000e+04,\n",
       "          2.68000000e+02]),\n",
       " array([-19.69934223, -15.69085945, -11.68237666,  -7.67389387,\n",
       "         -3.66541109,   0.3430717 ,   4.35155448,   8.36003727,\n",
       "         12.36852005,  16.37700284,  20.38548562]),\n",
       " <a list of 10 Patch objects>)"
      ]
     },
     "execution_count": 20,
     "metadata": {},
     "output_type": "execute_result"
    },
    {
     "data": {
      "image/png": "[encoded data removed]",
      "text/plain": [
       "<matplotlib.figure.Figure at 0x7f0074a8ca50>"
      ]
     },
     "metadata": {},
     "output_type": "display_data"
    }
   ],
   "source": [
    "plt.hist(rand_mrna['value'])"
   ]
  },
  {
   "cell_type": "markdown",
   "metadata": {},
   "source": [
    "#### K-S test"
   ]
  },
  {
   "cell_type": "code",
   "execution_count": 34,
   "metadata": {
    "collapsed": false
   },
   "outputs": [
    {
     "data": {
      "text/plain": [
       "(0.27690236425964693, 0.0)"
      ]
     },
     "execution_count": 34,
     "metadata": {},
     "output_type": "execute_result"
    }
   ],
   "source": [
    "ks_2samp(rand_mrna['value'], mrna['value'])"
   ]
  },
  {
   "cell_type": "markdown",
   "metadata": {},
   "source": [
    "#### Pearson correlation coefficient between mRNA and Protein fold changes"
   ]
  },
  {
   "cell_type": "code",
   "execution_count": 19,
   "metadata": {
    "collapsed": false
   },
   "outputs": [
    {
     "data": {
      "text/plain": [
       "(array([  163.,   887.,  1414.,  1567.,  1361.,  1063.,   650.,   289.,\n",
       "          105.,    36.]),\n",
       " array([-0.96431141, -0.80397204, -0.64363268, -0.48329332, -0.32295396,\n",
       "        -0.16261459, -0.00227523,  0.15806413,  0.31840349,  0.47874286,\n",
       "         0.63908222]),\n",
       " <a list of 10 Patch objects>)"
      ]
     },
     "execution_count": 19,
     "metadata": {},
     "output_type": "execute_result"
    },
    {
     "data": {
      "image/png": "[encoded data removed]",
      "text/plain": [
       "<matplotlib.figure.Figure at 0x7f0096eeed90>"
      ]
     },
     "metadata": {},
     "output_type": "display_data"
    }
   ],
   "source": [
    "\n",
    "\n",
    "a = pd.read_csv(open(\"../../bioinfo/qual-project/tcga/old_data/log_ratio_mrna_prot_pearson.txt\"),delimiter=\"\\t\")\n",
    "plt.hist(sorted(a['pearson_corr'].dropna()))\n"
   ]
  },
  {
   "cell_type": "markdown",
   "metadata": {},
   "source": [
    "#### Quantiles"
   ]
  },
  {
   "cell_type": "code",
   "execution_count": 51,
   "metadata": {
    "collapsed": false
   },
   "outputs": [
    {
     "data": {
      "text/plain": [
       "-0.34868750431199996"
      ]
     },
     "execution_count": 51,
     "metadata": {},
     "output_type": "execute_result"
    }
   ],
   "source": [
    "\n",
    "\n",
    "np.percentile(a['pearson_corr'].dropna(),50)"
   ]
  },
  {
   "cell_type": "markdown",
   "metadata": {},
   "source": [
    "#### Genes with > 0.6 Pearson Correlation Coefficient"
   ]
  },
  {
   "cell_type": "code",
   "execution_count": 60,
   "metadata": {
    "collapsed": false
   },
   "outputs": [
    {
     "name": "stdout",
     "output_type": "stream",
     "text": [
      "          gene  pearson_corr\n",
      "2866        F2      0.621470\n",
      "5369      MYH6      0.600125\n",
      "5914     OSTM1      0.639082\n",
      "6593  PPP1R16A      0.627921\n",
      "\n",
      "[4 rows x 2 columns]\n"
     ]
    }
   ],
   "source": [
    "genes = a[['gene','pearson_corr']][a['pearson_corr'] > 0.6]\n",
    "new_gene_list = list(genes['gene'])\n",
    "print genes"
   ]
  },
  {
   "cell_type": "markdown",
   "metadata": {},
   "source": [
    "#### Genes with <  -0.9 Pearson Correlation Coefficient"
   ]
  },
  {
   "cell_type": "code",
   "execution_count": 61,
   "metadata": {
    "collapsed": false
   },
   "outputs": [
    {
     "name": "stdout",
     "output_type": "stream",
     "text": [
      "         gene  pearson_corr\n",
      "432     ANXA6     -0.911485\n",
      "3747   HEATR6     -0.964311\n",
      "4045  IGF2BP2     -0.906013\n",
      "5730     NQO1     -0.926640\n",
      "5788   NUDCD1     -0.902085\n",
      "5804    NUDT4     -0.934351\n",
      "6340  PLA2G4A     -0.902639\n",
      "6347     PLAT     -0.916102\n",
      "6360    PLCG1     -0.917500\n",
      "6472    POLD3     -0.910324\n",
      "6578    PPME1     -0.905212\n",
      "7455  RPS6KB1     -0.921876\n",
      "7545  S100A7A     -0.907647\n",
      "8226    SPG20     -0.925588\n",
      "8772     TLE3     -0.902558\n",
      "9283    UBE2Z     -0.921773\n",
      "\n",
      "[16 rows x 2 columns]\n"
     ]
    }
   ],
   "source": [
    "genes = a[['gene','pearson_corr']][a['pearson_corr'] < -0.9]\n",
    "new_gene_list = new_gene_list + list(genes['gene'])\n",
    "print genes"
   ]
  },
  {
   "cell_type": "markdown",
   "metadata": {},
   "source": [
    "#### Previously detected dysregulated genes:"
   ]
  },
  {
   "cell_type": "code",
   "execution_count": 64,
   "metadata": {
    "collapsed": false,
    "scrolled": true
   },
   "outputs": [
    {
     "name": "stdout",
     "output_type": "stream",
     "text": [
      "COX7A1\n",
      "LOXL4\n",
      "PTGDS\n",
      "SAA1\n",
      "C15orf48\n",
      "E2F5\n",
      "GLRX2\n",
      "IL18\n",
      "LY6E\n",
      "SPC25\n",
      "FABP7\n",
      "HMGCS2\n",
      "MUCL1\n",
      "PIP\n",
      "ACTL8\n",
      "CAMP\n",
      "CASP14\n",
      "CLEC3A\n",
      "CRIP1\n",
      "HMGA1\n",
      "KLRG2\n",
      "MUC2\n",
      "S100A7\n",
      "S100A7A\n"
     ]
    }
   ],
   "source": [
    "with open(\"../../bioinfo/qual-project/tcga/old_data/genes_of_interest.txt\",'r') as f:\n",
    "    old_genes = f.read().splitlines()\n",
    "print '\\n'.join(old_genes)"
   ]
  },
  {
   "cell_type": "markdown",
   "metadata": {},
   "source": [
    "#### Only overlapping gene"
   ]
  },
  {
   "cell_type": "code",
   "execution_count": 66,
   "metadata": {
    "collapsed": false
   },
   "outputs": [
    {
     "name": "stdout",
     "output_type": "stream",
     "text": [
      "S100A7A\n"
     ]
    }
   ],
   "source": [
    "print '\\n'.join(list(set(new_gene_list) & set(old_genes)))"
   ]
  },
  {
   "cell_type": "code",
   "execution_count": 69,
   "metadata": {
    "collapsed": false
   },
   "outputs": [
    {
     "name": "stdout",
     "output_type": "stream",
     "text": [
      "          gene  pearson_corr dys_type    in_cosmic\n",
      "127      ACTL8     -0.626226  neither   not_cosmic\n",
      "1019  C15orf48     -0.576375  neither   not_cosmic\n",
      "1220      CAMP     -0.131358     mrna   not_cosmic\n",
      "1265    CASP14     -0.849156     prot   not_cosmic\n",
      "1722    CLEC3A     -0.638207     mrna   not_cosmic\n",
      "1900    COX7A1     -0.257154     mrna   not_cosmic\n",
      "1959     CRIP1     -0.724489     mrna   not_cosmic\n",
      "2535      E2F5     -0.311081  neither   not_cosmic\n",
      "2880     FABP7     -0.540688     mrna   not_cosmic\n",
      "3429     GLRX2     -0.560133  neither   not_cosmic\n",
      "3842     HMGA1      0.022958  neither  cosmic_gene\n",
      "3850    HMGCS2     -0.325150     mrna   not_cosmic\n",
      "4075      IL18     -0.522575  neither   not_cosmic\n",
      "4454     KLRG2      0.363881  neither   not_cosmic\n",
      "4654     LOXL4     -0.337552     mrna   not_cosmic\n",
      "4746      LY6E     -0.650485  neither   not_cosmic\n",
      "5332      MUC2     -0.612412     prot   not_cosmic\n",
      "5337     MUCL1     -0.299820     mrna   not_cosmic\n",
      "6306       PIP     -0.012468     mrna   not_cosmic\n",
      "6816     PTGDS     -0.698767     mrna   not_cosmic\n",
      "7544    S100A7     -0.738592     prot   not_cosmic\n",
      "7545   S100A7A     -0.907647  neither   not_cosmic\n",
      "7552      SAA1     -0.089379     mrna   not_cosmic\n",
      "8217     SPC25     -0.599260     mrna   not_cosmic\n",
      "\n",
      "[24 rows x 4 columns]\n"
     ]
    }
   ],
   "source": [
    "pearson_corrs = a[a['gene'].isin(old_genes)]\n",
    "print pearson_corrs"
   ]
  }
 ],
 "metadata": {
  "kernelspec": {
   "display_name": "Python 2",
   "language": "python",
   "name": "python2"
  },
  "language_info": {
   "codemirror_mode": {
    "name": "ipython",
    "version": 2
   },
   "file_extension": ".py",
   "mimetype": "text/x-python",
   "name": "python",
   "nbconvert_exporter": "python",
   "pygments_lexer": "ipython2",
   "version": "2.7.6"
  }
 },
 "nbformat": 4,
 "nbformat_minor": 0
}
