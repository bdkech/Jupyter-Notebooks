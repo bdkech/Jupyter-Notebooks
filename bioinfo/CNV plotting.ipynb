{
 "cells": [
  {
   "cell_type": "code",
   "execution_count": null,
   "metadata": {
    "collapsed": true
   },
   "outputs": [],
   "source": [
    "library(ggplot2)\n",
    "data<-read.table('data/intermediate/cnv_melted.txt',sep=\"\\t\",header=TRUE)\n",
    "ggplot(data,aes(x=cnv_state,..count..,fill=cnv_state)) + geom_bar()\n",
    "+ theme(panel.grid.minor=element_blank(),\n",
    "        panel.grid.major=element_blank())\n"
   ]
  },
  {
   "cell_type": "code",
   "execution_count": null,
   "metadata": {
    "collapsed": true
   },
   "outputs": [],
   "source": [
    "ggplot(data[data$variable %in% c(\"mrna_z\",\"prot_z\"),],aes(x=cnv_state,y=value,fill=variable)) + geom_boxplot() + coord_cartesian(ylim=c(-5,5))\n",
    "+ theme(panel.grid.minor=element_blank(),\n",
    "        panel.grid.major=element_blank())"
   ]
  }
 ],
 "metadata": {
  "kernelspec": {
   "display_name": "R",
   "language": "R",
   "name": "ir"
  },
  "language_info": {
   "codemirror_mode": "r",
   "file_extension": ".r",
   "mimetype": "text/x-r-source",
   "name": "R",
   "pygments_lexer": "r",
   "version": "3.2.3"
  }
 },
 "nbformat": 4,
 "nbformat_minor": 1
}
